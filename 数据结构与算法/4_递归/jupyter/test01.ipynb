{
 "cells": [
  {
   "cell_type": "markdown",
   "source": [
    "test1:\n",
    "    阶乘函数的递归实现（p96)"
   ],
   "metadata": {
    "collapsed": false
   }
  },
  {
   "cell_type": "code",
   "execution_count": null,
   "metadata": {
    "collapsed": true,
    "pycharm": {
     "is_executing": true
    }
   },
   "outputs": [],
   "source": [
    "def factorial(x):\n",
    "    if x==0:\n",
    "        return 1\n",
    "    else:\n",
    "        return x*factorial(x-1)\n",
    "\n",
    "factorial(5)"
   ]
  },
  {
   "cell_type": "markdown",
   "source": [
    "test2：\n",
    "    绘制英式标尺，递归实现(p97)\n",
    "    函数1：draw_ruler管理整个标尺的构建\n",
    "        参数1：num_inches，标尺的总长度\n",
    "        参数2：major_length，主刻度线的长度\n",
    "    函数2：draw_line\n",
    "        参数1：tick_length，刻度线的长度\n",
    "        参数2：tick_lable，刻度标签\n",
    "        功能1：用指定数量的破折线绘制一个单独的刻度线\n",
    "        功能2：在刻度线之后打印一个相应的刻度标签\n",
    "    函数3：draw_interval，用于递归的执行任务\n",
    "        参数1：center_length，相对位置处于中间的刻度线的长度\n",
    "        功能1：若center_length >= 1，则操作的第一步和最后一步调用      draw_interval(center_length-1)，中间步骤则是           draw_line(center_length)绘制一次刻度线\n",
    "        功能2：若center_length = 0，则不绘制任何东西\n"
   ],
   "metadata": {
    "collapsed": false
   }
  },
  {
   "cell_type": "code",
   "execution_count": null,
   "outputs": [],
   "source": [
    "def draw_ruler(num_inches,major_length):\n",
    "    draw_line(major_length,'0')\n",
    "    for j in range(1,1+num_inches):\n",
    "        draw_interval(major_length-1)\n",
    "        draw_line(major_length,str(j))\n",
    "\n",
    "def draw_line(tick_length,tick_lable=' '):\n",
    "    line='-'*tick_length\n",
    "    if tick_lable:\n",
    "        line+=' '+tick_lable\n",
    "        print(line)\n",
    "\n",
    "def draw_interval(center_length):\n",
    "    if center_length>0:\n",
    "        draw_interval(center_length-1)\n",
    "        draw_line(center_length)\n",
    "        draw_interval(center_length-1)\n",
    "\n",
    "draw_ruler(2,4)"
   ],
   "metadata": {
    "collapsed": false,
    "pycharm": {
     "is_executing": true
    }
   }
  },
  {
   "cell_type": "markdown",
   "source": [
    "test3：\n",
    "    二分查找（p100），递归的。\n",
    "    用于在一个含有n个元素的有序序列中有效的定位目标值。"
   ],
   "metadata": {
    "collapsed": false
   }
  },
  {
   "cell_type": "code",
   "execution_count": null,
   "outputs": [],
   "source": [],
   "metadata": {
    "collapsed": false
   }
  }
 ],
 "metadata": {
  "kernelspec": {
   "display_name": "Python 3",
   "language": "python",
   "name": "python3"
  },
  "language_info": {
   "codemirror_mode": {
    "name": "ipython",
    "version": 2
   },
   "file_extension": ".py",
   "mimetype": "text/x-python",
   "name": "python",
   "nbconvert_exporter": "python",
   "pygments_lexer": "ipython2",
   "version": "2.7.6"
  }
 },
 "nbformat": 4,
 "nbformat_minor": 0
}
